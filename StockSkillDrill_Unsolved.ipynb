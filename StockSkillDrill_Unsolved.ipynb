{
 "cells": [
  {
   "cell_type": "code",
   "execution_count": 1,
   "metadata": {},
   "outputs": [],
   "source": [
    "# Import the 'os' and 'csv' libraries\n",
    "import os\n",
    "\n",
    "import csv"
   ]
  },
  {
   "cell_type": "code",
   "execution_count": 4,
   "metadata": {},
   "outputs": [],
   "source": [
    "# Set path for importing our CSV file\n",
    "csvpath = os.path.join(\"../Resources\", \"yahoo_stock.csv\")\n"
   ]
  },
  {
   "cell_type": "code",
   "execution_count": 13,
   "metadata": {},
   "outputs": [
    {
     "ename": "SyntaxError",
     "evalue": "unmatched ')' (<ipython-input-13-e0b1a76dc202>, line 15)",
     "output_type": "error",
     "traceback": [
      "\u001b[1;36m  File \u001b[1;32m\"<ipython-input-13-e0b1a76dc202>\"\u001b[1;36m, line \u001b[1;32m15\u001b[0m\n\u001b[1;33m    row[\"printrow\"] = (row[\"Close\"] / row[\"Open\"]) * 100)\u001b[0m\n\u001b[1;37m                                                        ^\u001b[0m\n\u001b[1;31mSyntaxError\u001b[0m\u001b[1;31m:\u001b[0m unmatched ')'\n"
     ]
    }
   ],
   "source": [
    "# Open a connection to the comma-delimited csv file \n",
    "with open(csvpath) as csvfile:\n",
    "\n",
    "    # Read in the CSV file using csv.DictReader() class\n",
    "    csvreader = csv.DictReader(csvfile, delimiter=',')\n",
    "    \n",
    "    # Create a variable to save our print row and greatest daily percent change\n",
    "    printrow = {}\n",
    "    max_pct = {} \n",
    "  \n",
    "    # Iterate through each row\n",
    "    for row in csvreader:\n",
    "        \n",
    "        # For each row, calculate the daily percent change\n",
    "       (`Closing price` - `Opening price` / `Opening Price`) * 100\n",
    "        \n",
    "        # Check if the absolute daily percent change is greater than the previous max\n",
    "             if row['Adj Close'] > \"max_pct\":\n",
    "               \n",
    "            # If true, store new greatest daily percent change and print row\n",
    "                print(max_pct)\n",
    "    # Print out the date, stock high, stock low, volume and percent change for the day with the greatest percent change\n",
    "    max_row = max(EXAMPLE_DATA[1:], key=lambda row: float(row[7]))\n",
    "    print(heading + ': ' + row)"
   ]
  },
  {
   "cell_type": "code",
   "execution_count": null,
   "metadata": {},
   "outputs": [],
   "source": []
  }
 ],
 "metadata": {
  "kernelspec": {
   "display_name": "Python 3",
   "language": "python",
   "name": "python3"
  },
  "language_info": {
   "codemirror_mode": {
    "name": "ipython",
    "version": 3
   },
   "file_extension": ".py",
   "mimetype": "text/x-python",
   "name": "python",
   "nbconvert_exporter": "python",
   "pygments_lexer": "ipython3",
   "version": "3.8.5"
  }
 },
 "nbformat": 4,
 "nbformat_minor": 4
}
